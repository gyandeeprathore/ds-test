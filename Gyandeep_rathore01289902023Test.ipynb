{
 "cells": [
  {
   "cell_type": "code",
   "execution_count": 2,
   "id": "1e404ee6-7866-4ff6-bf99-a439a016b1df",
   "metadata": {},
   "outputs": [
    {
     "data": {
      "text/plain": [
       "\"List is a mutable data type and it is declared using '[]' brackets, EX [1,2,3,4,].\\nwhile tuple is a immutable data type and is declared using '()' brackets, EX (1,2,3,4).\""
      ]
     },
     "execution_count": 2,
     "metadata": {},
     "output_type": "execute_result"
    }
   ],
   "source": [
    "#answer1\n",
    "#List is a mutable data type and it is declared using '[]' brackets, EX [1,2,3,4,].\n",
    "#while tuple is a immutable data type and is declared using '()' brackets, EX (1,2,3,4)."
   ]
  },
  {
   "cell_type": "code",
   "execution_count": 13,
   "id": "f7653fb2-369a-422c-ab0b-c16debbc6875",
   "metadata": {},
   "outputs": [
    {
     "name": "stdin",
     "output_type": "stream",
     "text": [
      "this is how we take int data type 1\n"
     ]
    }
   ],
   "source": [
    "#second\n",
    "#'''The input() function is used to get input from the user in the runtime instead of giving input inside the code.\n",
    "#It returns string data type.\n",
    "#To convert str data type into integer we use this format: \n",
    "a=int(input(\"this is how we take int data type\"))"
   ]
  },
  {
   "cell_type": "code",
   "execution_count": 11,
   "id": "1bf7aafb-d6e9-4405-b31e-6cf1de19a5c5",
   "metadata": {},
   "outputs": [
    {
     "data": {
      "text/plain": [
       "{1: 'one', 2: 'second', 3: 'third'}"
      ]
     },
     "execution_count": 11,
     "metadata": {},
     "output_type": "execute_result"
    }
   ],
   "source": [
    "#third\n",
    "#python dictionaries are a way to store data using a key value pair and are declared using '{}' brackets, \n",
    "#for example {2:'second'}. \n",
    "#to create a 3 key-value pairs here's the code:\n",
    "dic={1:'one',2:'second',3:'third'}\n",
    "dic"
   ]
  },
  {
   "cell_type": "code",
   "execution_count": 17,
   "id": "f88874ba-2761-4fe1-a876-7f3d5c5dd78c",
   "metadata": {},
   "outputs": [
    {
     "name": "stdout",
     "output_type": "stream",
     "text": [
      "1\n",
      "2\n",
      "3\n",
      "4\n",
      "5\n"
     ]
    }
   ],
   "source": [
    "#forth\n",
    "# for loop is a pre defined function we use to run a block of code until a certain condition is met.\n",
    "#a code to print numbers from 1 to 5\n",
    "for i in range(1,6):\n",
    "    print(i)"
   ]
  },
  {
   "cell_type": "code",
   "execution_count": 21,
   "id": "30d78099-23e0-430e-9783-44928536be90",
   "metadata": {},
   "outputs": [
    {
     "name": "stdin",
     "output_type": "stream",
     "text": [
      "Input a number:  22\n"
     ]
    },
    {
     "name": "stdout",
     "output_type": "stream",
     "text": [
      "Half of 22 is 11.0\n",
      "Thank you\n"
     ]
    }
   ],
   "source": [
    "#five\n",
    "# Exception handling in python is a way of finding and handling errors whether they are intentional or really is a mistake.\n",
    "#try function is used to throw a exception at the code to see how the code responds\n",
    "#except block is then performed when an error is detected in the try block\n",
    "#finally block is performed whether or not we find an error in the try and except block\n",
    "try:\n",
    "    number = int(input(\"Input a number: \"))\n",
    "    result = number / 2\n",
    "except ValueError:\n",
    "    print(\"wrong input data type\")\n",
    "else:\n",
    "    print(f\"Half of {number} is {result}\")\n",
    "finally:\n",
    "    print(\"Thank you\")   "
   ]
  },
  {
   "cell_type": "code",
   "execution_count": 22,
   "id": "c6ff3ade-8834-41b1-89da-4dece801a3c9",
   "metadata": {},
   "outputs": [],
   "source": [
    "#seven\n",
    "#Object oriented programming in python is a type of programming which revolves around a real world object that we\n",
    "#create inside the block of code.\n",
    "#class is a blueprint of how the objects inside the class will behave and respond to inputs.\n",
    "#objects on the other hand is the literal object that reponds accordingly to the class.\n",
    "class car:\n",
    "    \n",
    "\n"
   ]
  },
  {
   "cell_type": "code",
   "execution_count": 26,
   "id": "ed14b888-c216-454e-8210-d8339e1f33be",
   "metadata": {},
   "outputs": [],
   "source": [
    "#eight\n",
    "result = []\n",
    "for x in range(10):\n",
    "    if x % 2 == 0:\n",
    "        result.append(x * 2)"
   ]
  },
  {
   "cell_type": "code",
   "execution_count": 31,
   "id": "c7b51e71-d20e-4f0a-aa6a-ce4c0318c954",
   "metadata": {},
   "outputs": [],
   "source": [
    "#nine\n",
    "def calculate_area(radius):\n",
    "    area= 22/7*radius*radius\n",
    "    print(area)"
   ]
  },
  {
   "cell_type": "code",
   "execution_count": 32,
   "id": "ef349430-f4e3-4407-94d9-d1db98cc79e8",
   "metadata": {},
   "outputs": [
    {
     "name": "stdout",
     "output_type": "stream",
     "text": [
      "78.57142857142857\n"
     ]
    }
   ],
   "source": [
    "calculate_area(5)"
   ]
  },
  {
   "cell_type": "code",
   "execution_count": 37,
   "id": "206a6a1f-be3d-4df5-9be5-1a32d6ff00c8",
   "metadata": {},
   "outputs": [
    {
     "name": "stdin",
     "output_type": "stream",
     "text": [
      "enter you name:  navya\n",
      "enter you age:  19\n"
     ]
    },
    {
     "name": "stdout",
     "output_type": "stream",
     "text": [
      "Hello navya,your age is 19\n"
     ]
    }
   ],
   "source": [
    "#ten\n",
    "a=input(\"enter you name: \")\n",
    "b=int(input(\"enter you age: \"))\n",
    "print(f\"Hello {a},your age is {b}\")\n",
    "            "
   ]
  },
  {
   "cell_type": "code",
   "execution_count": 42,
   "id": "9a334ecc-1a3b-4912-bfb4-71c7e9d6a5e9",
   "metadata": {},
   "outputs": [
    {
     "name": "stdout",
     "output_type": "stream",
     "text": [
      " 1: papaya\n",
      " 2: mango\n",
      " 3: orange\n",
      " 4: banana\n",
      " 5: kiwi\n"
     ]
    }
   ],
   "source": [
    "#11\n",
    "a=['papaya','mango','orange','banana','kiwi']\n",
    "for index, a in enumerate(a, start=1):\n",
    "    print(f\" {index}: {a}\")   "
   ]
  },
  {
   "cell_type": "code",
   "execution_count": 43,
   "id": "6c6c8dc0-6f41-4e22-8f9d-2bb431aba188",
   "metadata": {},
   "outputs": [],
   "source": [
    "#12\n",
    "def grade_calculator(score):\n",
    "    if 90 <= score <= 100:\n",
    "        return 'A'\n",
    "    elif 80 <= score < 90:\n",
    "        return 'B'\n",
    "    elif 70 <= score < 80:\n",
    "        return 'C'\n",
    "    elif 60 <= score < 70:\n",
    "        return 'D'\n",
    "    elif 0 <= score < 60:\n",
    "        return 'F'\n",
    "    else:\n",
    "        return 'Invalid score'"
   ]
  },
  {
   "cell_type": "code",
   "execution_count": 44,
   "id": "d15c7df2-d3e8-4ea2-bb35-06919ab541a0",
   "metadata": {},
   "outputs": [
    {
     "data": {
      "text/plain": [
       "'F'"
      ]
     },
     "execution_count": 44,
     "metadata": {},
     "output_type": "execute_result"
    }
   ],
   "source": [
    "grade_calculator(45)"
   ]
  },
  {
   "cell_type": "code",
   "execution_count": 45,
   "id": "889fd2dd-4ac0-4a46-955a-f63918a9e17f",
   "metadata": {},
   "outputs": [
    {
     "data": {
      "text/plain": [
       "'A'"
      ]
     },
     "execution_count": 45,
     "metadata": {},
     "output_type": "execute_result"
    }
   ],
   "source": [
    "grade_calculator(90)"
   ]
  },
  {
   "cell_type": "code",
   "execution_count": 46,
   "id": "1ae0ee3b-b11f-4eea-bae4-ec17d6388216",
   "metadata": {},
   "outputs": [
    {
     "data": {
      "text/plain": [
       "'F'"
      ]
     },
     "execution_count": 46,
     "metadata": {},
     "output_type": "execute_result"
    }
   ],
   "source": [
    "grade_calculator(50)"
   ]
  },
  {
   "cell_type": "code",
   "execution_count": 48,
   "id": "acfa4231-96e0-4c93-9668-dc6366e31143",
   "metadata": {},
   "outputs": [
    {
     "name": "stdout",
     "output_type": "stream",
     "text": [
      "Prime numbers between 1 and 50 are:\n",
      "2 3 5 7 11 13 17 19 23 29 31 37 41 43 47 "
     ]
    }
   ],
   "source": [
    "#15\n",
    "print(\"Prime numbers between 1 and 50 are:\")\n",
    "for num in range(2, 51):\n",
    "    prime = True\n",
    "    for i in range(2, int(num**0.5) + 1):\n",
    "        if num % i == 0:\n",
    "            prime = False\n",
    "            break\n",
    "    if prime:\n",
    "        print(num, end=\" \")\n",
    "\n"
   ]
  },
  {
   "cell_type": "code",
   "execution_count": null,
   "id": "bf49541e-7633-445b-83fb-576130a80e96",
   "metadata": {},
   "outputs": [],
   "source": []
  }
 ],
 "metadata": {
  "kernelspec": {
   "display_name": "Python 3 (ipykernel)",
   "language": "python",
   "name": "python3"
  },
  "language_info": {
   "codemirror_mode": {
    "name": "ipython",
    "version": 3
   },
   "file_extension": ".py",
   "mimetype": "text/x-python",
   "name": "python",
   "nbconvert_exporter": "python",
   "pygments_lexer": "ipython3",
   "version": "3.13.5"
  }
 },
 "nbformat": 4,
 "nbformat_minor": 5
}
